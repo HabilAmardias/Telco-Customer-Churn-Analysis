{
 "cells": [
  {
   "cell_type": "code",
   "execution_count": null,
   "metadata": {},
   "outputs": [],
   "source": [
    "import pandas as pd\n",
    "import numpy as np\n",
    "import matplotlib.pyplot as plt\n",
    "import seaborn as sns\n",
    "import scipy.stats as stats\n",
    "from sklearn.inspection import PartialDependenceDisplay\n",
    "from xgboost import plot_importance\n",
    "from sklearn.compose import ColumnTransformer\n",
    "from sklearn.preprocessing import OneHotEncoder\n",
    "from xgboost import XGBClassifier\n",
    "from sklearn.metrics import roc_auc_score\n",
    "import optuna\n",
    "import statsmodels.api as sm\n",
    "from sklearn.model_selection import StratifiedKFold\n",
    "import pickle"
   ]
  },
  {
   "cell_type": "code",
   "execution_count": null,
   "metadata": {},
   "outputs": [],
   "source": [
    "df = pd.read_csv('E:/MyProject/Python/CustomerChurn/data/WA_Fn-UseC_-Telco-Customer-Churn.csv')\n",
    "df.head()"
   ]
  },
  {
   "cell_type": "code",
   "execution_count": null,
   "metadata": {},
   "outputs": [],
   "source": [
    "df.info()"
   ]
  },
  {
   "cell_type": "code",
   "execution_count": null,
   "metadata": {},
   "outputs": [],
   "source": [
    "len(df['customerID'].unique())"
   ]
  },
  {
   "cell_type": "code",
   "execution_count": null,
   "metadata": {},
   "outputs": [],
   "source": [
    "df.drop('customerID',axis=1,inplace=True)\n",
    "df.info()"
   ]
  },
  {
   "cell_type": "code",
   "execution_count": null,
   "metadata": {},
   "outputs": [],
   "source": [
    "df[df['TotalCharges']==' ']"
   ]
  },
  {
   "cell_type": "code",
   "execution_count": null,
   "metadata": {},
   "outputs": [],
   "source": [
    "df.loc[df['TotalCharges']==' ','TotalCharges'] = df.loc[df['TotalCharges']==' ','tenure'] * df.loc[df['TotalCharges']==' ','MonthlyCharges']\n",
    "df['TotalCharges']=df['TotalCharges'].astype(float)\n",
    "df[df['TotalCharges']==0]"
   ]
  },
  {
   "cell_type": "code",
   "execution_count": null,
   "metadata": {},
   "outputs": [],
   "source": [
    "unique,count = np.unique(df['Churn'],return_counts=True)\n",
    "plt.pie(x=count,labels=unique,autopct='%.0f%%')\n",
    "plt.xlabel('Churn')\n",
    "plt.title('Churn Class Distribution')\n",
    "plt.show()"
   ]
  },
  {
   "cell_type": "code",
   "execution_count": null,
   "metadata": {},
   "outputs": [],
   "source": [
    "tab = pd.crosstab(df['PaymentMethod'],df['Churn'])\n",
    "sns.heatmap(tab,annot=True,fmt='.4g')"
   ]
  },
  {
   "cell_type": "code",
   "execution_count": null,
   "metadata": {},
   "outputs": [],
   "source": [
    "pvalue = stats.chi2_contingency(tab)[1]\n",
    "dependencies = 'Dependent' if pvalue<0.05 else 'Independent'\n",
    "pd.DataFrame({'columns':['PaymentMethod'],'p_value':[pvalue],'Dependence': [dependencies]})"
   ]
  },
  {
   "cell_type": "markdown",
   "metadata": {},
   "source": [
    "It seems a lot of churned customer using Electronic Check as payment method"
   ]
  },
  {
   "cell_type": "code",
   "execution_count": null,
   "metadata": {},
   "outputs": [],
   "source": [
    "sns.boxplot(x=df['Churn'],y=df['MonthlyCharges'])\n",
    "plt.show()"
   ]
  },
  {
   "cell_type": "markdown",
   "metadata": {},
   "source": [
    "Churned Customer have overall higher Monthly Charges compared to loyal customer. Hypothesis 1: High Monthly charges may be one of the reason why customer churn"
   ]
  },
  {
   "cell_type": "code",
   "execution_count": null,
   "metadata": {},
   "outputs": [],
   "source": [
    "sns.boxplot(x=df['Churn'],y=df['tenure'])\n",
    "plt.show()"
   ]
  },
  {
   "cell_type": "code",
   "execution_count": null,
   "metadata": {},
   "outputs": [],
   "source": [
    "contract = df[['Contract','Churn']].copy()\n",
    "mapping = {'Month-to-month':0, 'One year':1, 'Two year':2}\n",
    "contract['Contract'] = contract['Contract'].apply(lambda x: mapping[x])\n",
    "contract['Churn'] = contract['Churn'].apply(lambda x: 1 if x=='Yes' else 0)\n",
    "sns.heatmap(contract.corr('kendall'),annot=True)"
   ]
  },
  {
   "cell_type": "markdown",
   "metadata": {},
   "source": [
    "Loyal Customers tend to have longer tenure and longer contract compared to Churned Customer. \n",
    "\n",
    "Hypothesis 2: Churned Customer may be feel the monthly charges too high or the provided services not worth it for the price, OR maybe there are some new customer that tried the services"
   ]
  },
  {
   "cell_type": "markdown",
   "metadata": {},
   "source": [
    "Lets compare Churned customers and loyal customers behaviour for each service"
   ]
  },
  {
   "cell_type": "code",
   "execution_count": null,
   "metadata": {},
   "outputs": [],
   "source": [
    "services = ['PhoneService', 'MultipleLines', 'InternetService', 'OnlineSecurity',\n",
    "       'OnlineBackup', 'DeviceProtection', 'TechSupport', 'StreamingTV',\n",
    "       'StreamingMovies']\n",
    "_, ax = plt.subplots(3, 3, figsize=(30,10))\n",
    "for i in range(len(services)):\n",
    "    tab=pd.crosstab(df[services[i]],df['Churn'])\n",
    "    sns.heatmap(tab,ax=ax[i//3,i%3],annot=True,fmt='.4g')\n",
    "    ax[i//3,i%3].set_ylabel(services[i])"
   ]
  },
  {
   "cell_type": "code",
   "execution_count": null,
   "metadata": {},
   "outputs": [],
   "source": [
    "chi2_test=pd.DataFrame({'Columns':services})\n",
    "dependency=[]\n",
    "p_values=[]\n",
    "for col in services:\n",
    "    tab=pd.crosstab(df[col],df['Churn'])\n",
    "    p_values.append(stats.chi2_contingency(tab)[1])\n",
    "    if stats.chi2_contingency(tab)[1]<0.05:\n",
    "        dependency.append('Dependent')\n",
    "    else:\n",
    "        dependency.append('Independent')\n",
    "chi2_test['Dependency']=dependency\n",
    "chi2_test['P_Values']=p_values\n",
    "chi2_test"
   ]
  },
  {
   "cell_type": "code",
   "execution_count": null,
   "metadata": {},
   "outputs": [],
   "source": [
    "cols = services + ['Churn']\n",
    "services = df[cols].copy(True)\n",
    "services.head()"
   ]
  },
  {
   "cell_type": "code",
   "execution_count": null,
   "metadata": {},
   "outputs": [],
   "source": [
    "for col in services.columns.values:\n",
    "    unique = set(services[col].unique())\n",
    "    if unique == {'No','Yes'}:\n",
    "        mapping = {'No':0,'Yes':1}\n",
    "        services[col] = services[col].apply(lambda x: mapping[x])\n",
    "    elif unique == {'No', 'No internet service', 'Yes'}:\n",
    "        mapping = {'No internet service':0,'No':1,'Yes':2}\n",
    "        services[col] = services[col].apply(lambda x: mapping[x])\n",
    "    elif unique == {'No', 'No phone service', 'Yes'}:\n",
    "        mapping = {'No phone service':0,'No':1,'Yes':2}\n",
    "        services[col] = services[col].apply(lambda x: mapping[x])\n",
    "    elif unique == {'DSL', 'Fiber optic', 'No'}:\n",
    "        mapping = {'No':0,'DSL':1,'Fiber optic':2}\n",
    "        services[col] = services[col].apply(lambda x: mapping[x])\n",
    "services.head()"
   ]
  },
  {
   "cell_type": "code",
   "execution_count": null,
   "metadata": {},
   "outputs": [],
   "source": [
    "_, ax = plt.subplots(figsize=(30,10))\n",
    "sns.heatmap(services.corr('kendall'),annot=True)\n",
    "plt.show()"
   ]
  },
  {
   "cell_type": "code",
   "execution_count": null,
   "metadata": {},
   "outputs": [],
   "source": [
    "model = sm.Logit(services['Churn'],\n",
    "                 sm.add_constant(services.drop('Churn',axis=1))).fit()\n",
    "print(model.summary())"
   ]
  },
  {
   "cell_type": "code",
   "execution_count": null,
   "metadata": {},
   "outputs": [],
   "source": [
    "model.save('logistic.pickle')"
   ]
  },
  {
   "cell_type": "code",
   "execution_count": null,
   "metadata": {},
   "outputs": [],
   "source": [
    "importances = np.exp(model.params.sort_values())[1:]\n",
    "indices = importances.index\n",
    "plt.title('Model Coefficients')\n",
    "plt.barh(indices, importances[indices], color='b', align='center')\n",
    "plt.yticks()\n",
    "plt.show()"
   ]
  },
  {
   "cell_type": "markdown",
   "metadata": {},
   "source": [
    "There is moderately strong association between Internet Service and Customer Churn. Hypothesis 3: The reason customer churned may be because customer is not satisfied with the internet service"
   ]
  },
  {
   "cell_type": "markdown",
   "metadata": {},
   "source": [
    "Lets check association between services and monthly charges"
   ]
  },
  {
   "cell_type": "code",
   "execution_count": null,
   "metadata": {},
   "outputs": [],
   "source": [
    "services.drop('Churn',axis=1,inplace=True)\n",
    "services['MonthlyCharges'] = df['MonthlyCharges']\n",
    "_, ax = plt.subplots(figsize=(30,10))\n",
    "sns.heatmap(services.corr('spearman'),annot=True)\n",
    "plt.show()"
   ]
  },
  {
   "cell_type": "code",
   "execution_count": null,
   "metadata": {},
   "outputs": [],
   "source": [
    "model = sm.OLS(services['MonthlyCharges'],\n",
    "               sm.add_constant(services.drop('MonthlyCharges',axis=1))).fit()\n",
    "print(model.summary())"
   ]
  },
  {
   "cell_type": "code",
   "execution_count": null,
   "metadata": {},
   "outputs": [],
   "source": [
    "importances = model.params.sort_values()[1:]\n",
    "indices = importances.index\n",
    "plt.title('Model Coefficients')\n",
    "plt.barh(indices, importances[indices], color='b', align='center')\n",
    "plt.yticks()\n",
    "plt.show()"
   ]
  },
  {
   "cell_type": "markdown",
   "metadata": {},
   "source": [
    "It seems Phone Service and Internet Service Contribute a lot to Monthly Charges. Hypothesis 4: Internet Service high contribution to Monthly Charges may be one of the reason customer churn."
   ]
  },
  {
   "cell_type": "markdown",
   "metadata": {},
   "source": [
    "Now Lets Try to Model all Variables with XGBoost"
   ]
  },
  {
   "cell_type": "code",
   "execution_count": null,
   "metadata": {},
   "outputs": [],
   "source": [
    "df['Churn'] = df['Churn'].apply(lambda x: 1 if x=='Yes' else 0)\n",
    "X,y = df.drop('Churn',axis=1),df['Churn']"
   ]
  },
  {
   "cell_type": "code",
   "execution_count": null,
   "metadata": {},
   "outputs": [],
   "source": [
    "def preprocessing(df:pd.DataFrame):\n",
    "    num_col = ['SeniorCitizen','tenure','MonthlyCharges','TotalCharges']\n",
    "    cat_col = list(set(df.columns)-set(num_col))\n",
    "    df1=df.copy()\n",
    "    for col in cat_col:\n",
    "        if col == 'gender':\n",
    "            mapping = {'Female':0,'Male':1}\n",
    "        elif col == 'Contract':\n",
    "            mapping = {'Month-to-month':0, 'One year':1, 'Two year':2}\n",
    "        elif col in ['Dependents','PaperlessBilling','PhoneService','Partner']:\n",
    "            mapping = {'No':0, 'Yes':1}\n",
    "        elif col == 'MultipleLines':\n",
    "            mapping = {'No phone service':0,'No':1,'Yes':2}\n",
    "        elif col in ['DeviceProtection','TechSupport','OnlineSecurity','StreamingTV','StreamingMovies','OnlineBackup']:\n",
    "            mapping = {'No internet service':0,'No':1,'Yes':2}\n",
    "        elif col == 'InternetService':\n",
    "            mapping = {'No':0,'DSL':1,'Fiber optic':2}\n",
    "        elif col == 'PaymentMethod':\n",
    "            continue\n",
    "        df1[col] = df1[col].apply(lambda x: mapping[x] if x in mapping else -1)\n",
    "    return df1"
   ]
  },
  {
   "cell_type": "code",
   "execution_count": null,
   "metadata": {},
   "outputs": [],
   "source": [
    "onehot = OneHotEncoder(sparse_output=False,dtype=np.float64,handle_unknown='ignore',drop='first')\n",
    "onehot.set_output(transform='pandas')\n",
    "onehot_seq = ('onehot',onehot,['PaymentMethod'])\n",
    "transformer = ColumnTransformer([onehot_seq],\n",
    "                                remainder='passthrough',\n",
    "                                n_jobs=-1,\n",
    "                                verbose_feature_names_out=False)\n",
    "transformer.set_output(transform='pandas')"
   ]
  },
  {
   "cell_type": "code",
   "execution_count": null,
   "metadata": {},
   "outputs": [],
   "source": [
    "def objective(trial):\n",
    "    cv = StratifiedKFold(n_splits=10,shuffle=True,random_state=42)\n",
    "    \n",
    "    params={'max_depth':trial.suggest_int(\"max_depth\",6,20,step=1),\n",
    "            'n_estimators':trial.suggest_int(\"n_estimators\",100,900,step=100),\n",
    "            'subsample':trial.suggest_float(\"subsample\",0.5,1,step=0.1),\n",
    "            'colsample_bytree':trial.suggest_float(\"colsample_bytree\",0.5,1,step=0.1),\n",
    "            'reg_lambda':trial.suggest_float(\"reg_lambda\",0,2e-1,step=0.025),\n",
    "            'reg_alpha':trial.suggest_float(\"reg_alpha\",0,2e-1,step=0.025),\n",
    "            'max_leaves':trial.suggest_int(\"max_leaves\",12,40,step=2),\n",
    "            'learning_rate':trial.suggest_float(\"learning_rate\",0.05,0.3,step=0.05),\n",
    "            'max_bin':trial.suggest_int(\"max_bin\",256,4096,step=16),\n",
    "            'early_stopping_rounds':10,\n",
    "            'eval_metric':'logloss',\n",
    "            'grow_policy':'lossguide',\n",
    "            'random_state':42,\n",
    "            'n_jobs':-1}\n",
    "    \n",
    "    scores = []\n",
    "    for train,val in cv.split(X,y):\n",
    "        X1,y1 = X.iloc[train],y.iloc[train]\n",
    "        X2,y2 = X.iloc[val],y.iloc[val]\n",
    "        X1 = transformer.fit_transform(preprocessing(X1))\n",
    "        X2 = transformer.transform(preprocessing(X2))\n",
    "        clf = XGBClassifier(**params)\n",
    "        clf.fit(X1,y1,eval_set=[(X2,y2)],verbose=False)\n",
    "        pred = clf.predict_proba(X2)\n",
    "        scores.append(roc_auc_score(y2,pred[:,1]))\n",
    "    return sum(scores)/len(scores)"
   ]
  },
  {
   "cell_type": "code",
   "execution_count": null,
   "metadata": {},
   "outputs": [],
   "source": [
    "sampler=optuna.samplers.TPESampler(seed=42)\n",
    "study=optuna.create_study(sampler=sampler,direction='maximize')\n",
    "study.optimize(objective,n_trials=50)"
   ]
  },
  {
   "cell_type": "code",
   "execution_count": null,
   "metadata": {},
   "outputs": [],
   "source": [
    "print('Best AUC Score: ', study.best_value)"
   ]
  },
  {
   "cell_type": "code",
   "execution_count": null,
   "metadata": {},
   "outputs": [],
   "source": [
    "best_params = study.best_params\n",
    "best_params['random_state']=42\n",
    "best_params['grow_policy']='lossguide'\n",
    "best_params['n_jobs']=-1"
   ]
  },
  {
   "cell_type": "code",
   "execution_count": null,
   "metadata": {},
   "outputs": [],
   "source": [
    "X = transformer.fit_transform(preprocessing(X))\n",
    "with open('transformer.pkl','wb') as f:\n",
    "    pickle.dump(transformer,f)\n",
    "clf = XGBClassifier(**best_params)\n",
    "clf.fit(X,y)\n",
    "with open('xgb.pkl','wb') as f:\n",
    "    pickle.dump(clf,f)"
   ]
  },
  {
   "cell_type": "code",
   "execution_count": null,
   "metadata": {},
   "outputs": [],
   "source": [
    "X = transformer.fit_transform(preprocessing(X))\n",
    "with open('xgb.pkl','rb') as f:\n",
    "    clf = pickle.load(f)"
   ]
  },
  {
   "cell_type": "code",
   "execution_count": null,
   "metadata": {},
   "outputs": [],
   "source": [
    "plot_importance(clf,importance_type='gain')"
   ]
  },
  {
   "cell_type": "code",
   "execution_count": null,
   "metadata": {},
   "outputs": [],
   "source": [
    "pdd=PartialDependenceDisplay.from_estimator(clf, X, X.columns.values)\n",
    "pdd.figure_.set_figwidth(20)\n",
    "pdd.figure_.set_figheight(25)"
   ]
  },
  {
   "cell_type": "code",
   "execution_count": null,
   "metadata": {},
   "outputs": [],
   "source": []
  }
 ],
 "metadata": {
  "kernelspec": {
   "display_name": ".venv",
   "language": "python",
   "name": "python3"
  },
  "language_info": {
   "codemirror_mode": {
    "name": "ipython",
    "version": 3
   },
   "file_extension": ".py",
   "mimetype": "text/x-python",
   "name": "python",
   "nbconvert_exporter": "python",
   "pygments_lexer": "ipython3",
   "version": "3.12.7"
  }
 },
 "nbformat": 4,
 "nbformat_minor": 2
}
